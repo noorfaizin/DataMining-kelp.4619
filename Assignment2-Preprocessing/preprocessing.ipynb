{
 "cells": [
  {
   "cell_type": "code",
   "execution_count": 23,
   "id": "99346a36",
   "metadata": {},
   "outputs": [],
   "source": [
    "import numpy as np\n",
    "import matplotlib.pyplot as plt\n",
    "import pandas as pd"
   ]
  },
  {
   "cell_type": "code",
   "execution_count": 24,
   "id": "7d0ddba9",
   "metadata": {},
   "outputs": [],
   "source": [
    "dataset = pd.read_csv('tahun-2021-jumlah-penduduk-berdasarkan-kelompok-umur-bandung.csv')\n",
    "X = dataset.iloc[:, :-1].values\n",
    "y = dataset.iloc[:, -1].values"
   ]
  },
  {
   "cell_type": "code",
   "execution_count": 25,
   "id": "c6b903ee",
   "metadata": {},
   "outputs": [],
   "source": [
    "from sklearn.model_selection import train_test_split\n",
    "X_train, X_test, y_train, y_test = train_test_split(X, y, test_size = 0.2, random_state = 0)"
   ]
  },
  {
   "cell_type": "code",
   "execution_count": 26,
   "id": "fad4ea02",
   "metadata": {},
   "outputs": [],
   "source": [
    "from sklearn.impute import SimpleImputer\n",
    "\n",
    "imputer = SimpleImputer(missing_values=np.nan, strategy='constant')\n",
    "imputer.fit(X[:, 1:3])\n",
    "X[:, 1:3] = imputer.transform(X[:, 1:3])"
   ]
  },
  {
   "cell_type": "code",
   "execution_count": 27,
   "id": "c7b74820",
   "metadata": {},
   "outputs": [
    {
     "data": {
      "text/html": [
       "<div>\n",
       "<style scoped>\n",
       "    .dataframe tbody tr th:only-of-type {\n",
       "        vertical-align: middle;\n",
       "    }\n",
       "\n",
       "    .dataframe tbody tr th {\n",
       "        vertical-align: top;\n",
       "    }\n",
       "\n",
       "    .dataframe thead th {\n",
       "        text-align: right;\n",
       "    }\n",
       "</style>\n",
       "<table border=\"1\" class=\"dataframe\">\n",
       "  <thead>\n",
       "    <tr style=\"text-align: right;\">\n",
       "      <th></th>\n",
       "      <th>Kecamatan</th>\n",
       "      <th>Kelurahan</th>\n",
       "      <th>Usia 0-4 Thn</th>\n",
       "      <th>Usia 5-9 Thn</th>\n",
       "      <th>Usia 10-14 Thn</th>\n",
       "      <th>Usian 15-19 Thn</th>\n",
       "      <th>Usia 20-24 Thn</th>\n",
       "      <th>Usia 25-29 Thn</th>\n",
       "      <th>Usia 30-34 Thn</th>\n",
       "      <th>Usia 35-39 Thn</th>\n",
       "      <th>Usia 40-44 Thn</th>\n",
       "      <th>Usia 45-49 Thn</th>\n",
       "      <th>Usia 50-54 Thn</th>\n",
       "      <th>Usia 55-59 Thn</th>\n",
       "      <th>Usia 60-64 Thn</th>\n",
       "      <th>Usia 65-69 Thn</th>\n",
       "      <th>Usia 70-74 Thn</th>\n",
       "      <th>Usia &gt; 75 Thn</th>\n",
       "    </tr>\n",
       "  </thead>\n",
       "  <tbody>\n",
       "    <tr>\n",
       "      <th>0</th>\n",
       "      <td>Andir</td>\n",
       "      <td>Campaka</td>\n",
       "      <td>1249</td>\n",
       "      <td>1499</td>\n",
       "      <td>1608</td>\n",
       "      <td>1509</td>\n",
       "      <td>1499</td>\n",
       "      <td>1493</td>\n",
       "      <td>1293</td>\n",
       "      <td>1465</td>\n",
       "      <td>1514</td>\n",
       "      <td>1414</td>\n",
       "      <td>1237</td>\n",
       "      <td>932</td>\n",
       "      <td>734</td>\n",
       "      <td>484</td>\n",
       "      <td>246</td>\n",
       "      <td>317</td>\n",
       "    </tr>\n",
       "    <tr>\n",
       "      <th>1</th>\n",
       "      <td>Andir</td>\n",
       "      <td>Ciroyom</td>\n",
       "      <td>1471</td>\n",
       "      <td>1835</td>\n",
       "      <td>1835</td>\n",
       "      <td>1609</td>\n",
       "      <td>1597</td>\n",
       "      <td>1556</td>\n",
       "      <td>1408</td>\n",
       "      <td>1589</td>\n",
       "      <td>1641</td>\n",
       "      <td>1316</td>\n",
       "      <td>1160</td>\n",
       "      <td>975</td>\n",
       "      <td>762</td>\n",
       "      <td>548</td>\n",
       "      <td>292</td>\n",
       "      <td>397</td>\n",
       "    </tr>\n",
       "    <tr>\n",
       "      <th>2</th>\n",
       "      <td>Andir</td>\n",
       "      <td>Dungus Cariang</td>\n",
       "      <td>1288</td>\n",
       "      <td>1500</td>\n",
       "      <td>1578</td>\n",
       "      <td>1469</td>\n",
       "      <td>1497</td>\n",
       "      <td>1473</td>\n",
       "      <td>1280</td>\n",
       "      <td>1443</td>\n",
       "      <td>1492</td>\n",
       "      <td>1464</td>\n",
       "      <td>1252</td>\n",
       "      <td>1011</td>\n",
       "      <td>788</td>\n",
       "      <td>583</td>\n",
       "      <td>349</td>\n",
       "      <td>410</td>\n",
       "    </tr>\n",
       "    <tr>\n",
       "      <th>3</th>\n",
       "      <td>Andir</td>\n",
       "      <td>Garuda</td>\n",
       "      <td>690</td>\n",
       "      <td>832</td>\n",
       "      <td>830</td>\n",
       "      <td>824</td>\n",
       "      <td>796</td>\n",
       "      <td>790</td>\n",
       "      <td>755</td>\n",
       "      <td>831</td>\n",
       "      <td>891</td>\n",
       "      <td>813</td>\n",
       "      <td>754</td>\n",
       "      <td>553</td>\n",
       "      <td>451</td>\n",
       "      <td>336</td>\n",
       "      <td>199</td>\n",
       "      <td>272</td>\n",
       "    </tr>\n",
       "    <tr>\n",
       "      <th>4</th>\n",
       "      <td>Andir</td>\n",
       "      <td>Kebon Jeruk</td>\n",
       "      <td>599</td>\n",
       "      <td>811</td>\n",
       "      <td>780</td>\n",
       "      <td>812</td>\n",
       "      <td>847</td>\n",
       "      <td>781</td>\n",
       "      <td>744</td>\n",
       "      <td>863</td>\n",
       "      <td>959</td>\n",
       "      <td>807</td>\n",
       "      <td>832</td>\n",
       "      <td>707</td>\n",
       "      <td>626</td>\n",
       "      <td>508</td>\n",
       "      <td>365</td>\n",
       "      <td>514</td>\n",
       "    </tr>\n",
       "    <tr>\n",
       "      <th>...</th>\n",
       "      <td>...</td>\n",
       "      <td>...</td>\n",
       "      <td>...</td>\n",
       "      <td>...</td>\n",
       "      <td>...</td>\n",
       "      <td>...</td>\n",
       "      <td>...</td>\n",
       "      <td>...</td>\n",
       "      <td>...</td>\n",
       "      <td>...</td>\n",
       "      <td>...</td>\n",
       "      <td>...</td>\n",
       "      <td>...</td>\n",
       "      <td>...</td>\n",
       "      <td>...</td>\n",
       "      <td>...</td>\n",
       "      <td>...</td>\n",
       "      <td>...</td>\n",
       "    </tr>\n",
       "    <tr>\n",
       "      <th>146</th>\n",
       "      <td>Ujung Berung</td>\n",
       "      <td>Cigending</td>\n",
       "      <td>1207</td>\n",
       "      <td>1408</td>\n",
       "      <td>1493</td>\n",
       "      <td>1384</td>\n",
       "      <td>1347</td>\n",
       "      <td>1331</td>\n",
       "      <td>1189</td>\n",
       "      <td>1313</td>\n",
       "      <td>1324</td>\n",
       "      <td>1210</td>\n",
       "      <td>1054</td>\n",
       "      <td>916</td>\n",
       "      <td>722</td>\n",
       "      <td>492</td>\n",
       "      <td>247</td>\n",
       "      <td>257</td>\n",
       "    </tr>\n",
       "    <tr>\n",
       "      <th>147</th>\n",
       "      <td>Ujung Berung</td>\n",
       "      <td>Pasanggrahan</td>\n",
       "      <td>1562</td>\n",
       "      <td>1867</td>\n",
       "      <td>1810</td>\n",
       "      <td>1669</td>\n",
       "      <td>1712</td>\n",
       "      <td>1677</td>\n",
       "      <td>1555</td>\n",
       "      <td>1623</td>\n",
       "      <td>1525</td>\n",
       "      <td>1496</td>\n",
       "      <td>1295</td>\n",
       "      <td>957</td>\n",
       "      <td>667</td>\n",
       "      <td>447</td>\n",
       "      <td>274</td>\n",
       "      <td>330</td>\n",
       "    </tr>\n",
       "    <tr>\n",
       "      <th>148</th>\n",
       "      <td>Ujung Berung</td>\n",
       "      <td>Pasir Endah</td>\n",
       "      <td>1245</td>\n",
       "      <td>1481</td>\n",
       "      <td>1405</td>\n",
       "      <td>1330</td>\n",
       "      <td>1277</td>\n",
       "      <td>1379</td>\n",
       "      <td>1284</td>\n",
       "      <td>1407</td>\n",
       "      <td>1338</td>\n",
       "      <td>1152</td>\n",
       "      <td>1081</td>\n",
       "      <td>835</td>\n",
       "      <td>733</td>\n",
       "      <td>507</td>\n",
       "      <td>276</td>\n",
       "      <td>272</td>\n",
       "    </tr>\n",
       "    <tr>\n",
       "      <th>149</th>\n",
       "      <td>Ujung Berung</td>\n",
       "      <td>Pasirwangi</td>\n",
       "      <td>1430</td>\n",
       "      <td>1637</td>\n",
       "      <td>1573</td>\n",
       "      <td>1361</td>\n",
       "      <td>1297</td>\n",
       "      <td>1453</td>\n",
       "      <td>1300</td>\n",
       "      <td>1476</td>\n",
       "      <td>1362</td>\n",
       "      <td>1220</td>\n",
       "      <td>1008</td>\n",
       "      <td>724</td>\n",
       "      <td>537</td>\n",
       "      <td>348</td>\n",
       "      <td>185</td>\n",
       "      <td>202</td>\n",
       "    </tr>\n",
       "    <tr>\n",
       "      <th>150</th>\n",
       "      <td>Ujung Berung</td>\n",
       "      <td>Pasirjati</td>\n",
       "      <td>1293</td>\n",
       "      <td>1625</td>\n",
       "      <td>1606</td>\n",
       "      <td>1477</td>\n",
       "      <td>1454</td>\n",
       "      <td>1374</td>\n",
       "      <td>1277</td>\n",
       "      <td>1436</td>\n",
       "      <td>1460</td>\n",
       "      <td>1300</td>\n",
       "      <td>1073</td>\n",
       "      <td>807</td>\n",
       "      <td>569</td>\n",
       "      <td>410</td>\n",
       "      <td>178</td>\n",
       "      <td>228</td>\n",
       "    </tr>\n",
       "  </tbody>\n",
       "</table>\n",
       "<p>151 rows × 18 columns</p>\n",
       "</div>"
      ],
      "text/plain": [
       "        Kecamatan       Kelurahan  Usia 0-4 Thn  Usia 5-9 Thn  Usia 10-14 Thn  \\\n",
       "0           Andir         Campaka          1249          1499            1608   \n",
       "1           Andir         Ciroyom          1471          1835            1835   \n",
       "2           Andir  Dungus Cariang          1288          1500            1578   \n",
       "3           Andir          Garuda           690           832             830   \n",
       "4           Andir     Kebon Jeruk           599           811             780   \n",
       "..            ...             ...           ...           ...             ...   \n",
       "146  Ujung Berung       Cigending          1207          1408            1493   \n",
       "147  Ujung Berung    Pasanggrahan          1562          1867            1810   \n",
       "148  Ujung Berung     Pasir Endah          1245          1481            1405   \n",
       "149  Ujung Berung      Pasirwangi          1430          1637            1573   \n",
       "150  Ujung Berung       Pasirjati          1293          1625            1606   \n",
       "\n",
       "     Usian 15-19 Thn  Usia 20-24 Thn  Usia 25-29 Thn  Usia 30-34 Thn  \\\n",
       "0               1509            1499            1493            1293   \n",
       "1               1609            1597            1556            1408   \n",
       "2               1469            1497            1473            1280   \n",
       "3                824             796             790             755   \n",
       "4                812             847             781             744   \n",
       "..               ...             ...             ...             ...   \n",
       "146             1384            1347            1331            1189   \n",
       "147             1669            1712            1677            1555   \n",
       "148             1330            1277            1379            1284   \n",
       "149             1361            1297            1453            1300   \n",
       "150             1477            1454            1374            1277   \n",
       "\n",
       "     Usia 35-39 Thn  Usia 40-44 Thn  Usia 45-49 Thn  Usia 50-54 Thn  \\\n",
       "0              1465            1514            1414            1237   \n",
       "1              1589            1641            1316            1160   \n",
       "2              1443            1492            1464            1252   \n",
       "3               831             891             813             754   \n",
       "4               863             959             807             832   \n",
       "..              ...             ...             ...             ...   \n",
       "146            1313            1324            1210            1054   \n",
       "147            1623            1525            1496            1295   \n",
       "148            1407            1338            1152            1081   \n",
       "149            1476            1362            1220            1008   \n",
       "150            1436            1460            1300            1073   \n",
       "\n",
       "     Usia 55-59 Thn  Usia 60-64 Thn  Usia 65-69 Thn  Usia 70-74 Thn  \\\n",
       "0               932             734             484             246   \n",
       "1               975             762             548             292   \n",
       "2              1011             788             583             349   \n",
       "3               553             451             336             199   \n",
       "4               707             626             508             365   \n",
       "..              ...             ...             ...             ...   \n",
       "146             916             722             492             247   \n",
       "147             957             667             447             274   \n",
       "148             835             733             507             276   \n",
       "149             724             537             348             185   \n",
       "150             807             569             410             178   \n",
       "\n",
       "     Usia > 75 Thn  \n",
       "0              317  \n",
       "1              397  \n",
       "2              410  \n",
       "3              272  \n",
       "4              514  \n",
       "..             ...  \n",
       "146            257  \n",
       "147            330  \n",
       "148            272  \n",
       "149            202  \n",
       "150            228  \n",
       "\n",
       "[151 rows x 18 columns]"
      ]
     },
     "execution_count": 27,
     "metadata": {},
     "output_type": "execute_result"
    }
   ],
   "source": [
    "dataset"
   ]
  },
  {
   "cell_type": "code",
   "execution_count": 28,
   "id": "075d2e41",
   "metadata": {},
   "outputs": [
    {
     "name": "stdout",
     "output_type": "stream",
     "text": [
      "[['Andir' 'Campaka' 1249 ... 734 484 246]\n",
      " ['Andir' 'Ciroyom' 1471 ... 762 548 292]\n",
      " ['Andir' 'Dungus Cariang' 1288 ... 788 583 349]\n",
      " ...\n",
      " ['Ujung Berung' 'Pasir Endah' 1245 ... 733 507 276]\n",
      " ['Ujung Berung' 'Pasirwangi' 1430 ... 537 348 185]\n",
      " ['Ujung Berung' 'Pasirjati' 1293 ... 569 410 178]]\n"
     ]
    }
   ],
   "source": [
    "print(X)"
   ]
  },
  {
   "cell_type": "code",
   "execution_count": 29,
   "id": "0a7b0993",
   "metadata": {},
   "outputs": [
    {
     "name": "stdout",
     "output_type": "stream",
     "text": [
      "[317 397 410 272 514 477 434 139 361 228 194 266 370 424 481 363 336 298\n",
      " 200 370 374 425 144 306 145 525 458 284 188  97 162 285 157 133 123 444\n",
      " 249 306 272 163 576 292 404 479 295 222 280 299 239 296 417 567 484 299\n",
      " 108 101 127 522 155 452 445 154 712 422 658 331 264 459 324 629 358 388\n",
      " 290 329 191 263 197 283 502 280 450 359 384 402 464 499 263  86  93 105\n",
      "  69 274 792 345 102 565 643  35 434 103  43 638 295 295 293 280 442 311\n",
      " 391 230 294 322 241 707 365 229 180 230  63  48 166 183 373 246 711 249\n",
      " 394 306 310 409 346 275 298 478 505 502 391 328 694 279 781 306 206 220\n",
      " 321 264 257 330 272 202 228]\n"
     ]
    }
   ],
   "source": [
    "print(y)"
   ]
  },
  {
   "cell_type": "code",
   "execution_count": 30,
   "id": "2e9e433a",
   "metadata": {},
   "outputs": [],
   "source": [
    "from sklearn.compose import ColumnTransformer\n",
    "from sklearn.preprocessing import OneHotEncoder\n",
    "ct = ColumnTransformer(transformers=[('encoder', OneHotEncoder(sparse=False), [0, 1])], remainder='passthrough')\n",
    "X = np.array(ct.fit_transform(X))"
   ]
  },
  {
   "cell_type": "code",
   "execution_count": 31,
   "id": "6683e0df",
   "metadata": {},
   "outputs": [
    {
     "name": "stdout",
     "output_type": "stream",
     "text": [
      "<class 'pandas.core.frame.DataFrame'>\n",
      "RangeIndex: 151 entries, 0 to 150\n",
      "Data columns (total 18 columns):\n",
      " #   Column           Non-Null Count  Dtype \n",
      "---  ------           --------------  ----- \n",
      " 0   Kecamatan        151 non-null    object\n",
      " 1   Kelurahan        151 non-null    object\n",
      " 2   Usia 0-4 Thn     151 non-null    int64 \n",
      " 3   Usia 5-9 Thn     151 non-null    int64 \n",
      " 4   Usia 10-14 Thn   151 non-null    int64 \n",
      " 5   Usian 15-19 Thn  151 non-null    int64 \n",
      " 6   Usia 20-24 Thn   151 non-null    int64 \n",
      " 7   Usia 25-29 Thn   151 non-null    int64 \n",
      " 8   Usia 30-34 Thn   151 non-null    int64 \n",
      " 9   Usia 35-39 Thn   151 non-null    int64 \n",
      " 10  Usia 40-44 Thn   151 non-null    int64 \n",
      " 11  Usia 45-49 Thn   151 non-null    int64 \n",
      " 12  Usia 50-54 Thn   151 non-null    int64 \n",
      " 13  Usia 55-59 Thn   151 non-null    int64 \n",
      " 14  Usia 60-64 Thn   151 non-null    int64 \n",
      " 15  Usia 65-69 Thn   151 non-null    int64 \n",
      " 16  Usia 70-74 Thn   151 non-null    int64 \n",
      " 17  Usia > 75 Thn    151 non-null    int64 \n",
      "dtypes: int64(16), object(2)\n",
      "memory usage: 21.4+ KB\n"
     ]
    }
   ],
   "source": [
    "dataset.info()"
   ]
  },
  {
   "cell_type": "code",
   "execution_count": 32,
   "id": "5ee23955",
   "metadata": {},
   "outputs": [
    {
     "name": "stdout",
     "output_type": "stream",
     "text": [
      "[[1.0 0.0 0.0 ... 734 484 246]\n",
      " [1.0 0.0 0.0 ... 762 548 292]\n",
      " [1.0 0.0 0.0 ... 788 583 349]\n",
      " ...\n",
      " [0.0 0.0 0.0 ... 733 507 276]\n",
      " [0.0 0.0 0.0 ... 537 348 185]\n",
      " [0.0 0.0 0.0 ... 569 410 178]]\n"
     ]
    }
   ],
   "source": [
    "print(X)"
   ]
  },
  {
   "cell_type": "code",
   "execution_count": 33,
   "id": "eeb8f277",
   "metadata": {},
   "outputs": [],
   "source": [
    "from sklearn.preprocessing import LabelEncoder\n",
    "le = LabelEncoder()\n",
    "y = le.fit_transform(y)"
   ]
  },
  {
   "cell_type": "code",
   "execution_count": 34,
   "id": "e1ba6b12",
   "metadata": {},
   "outputs": [
    {
     "name": "stdout",
     "output_type": "stream",
     "text": [
      "[ 66  89  93  47 115 107  98  16  79  36  29  46  82  96 110  80  74  61\n",
      "  31  82  84  97  17  63  18 117 104  53  27   7  22  54  21  15  13 100\n",
      "  42  63  47  23 120  56  91 109  59  35  51  62  39  60  94 119 111  62\n",
      "  12   8  14 116  20 103 101  19 128  95 124  73  45 105  69 121  77  86\n",
      "  55  71  28  44  30  52 113  51 102  78  85  90 106 112  44   5   6  11\n",
      "   4  48 130  75   9 118 123   0  98  10   1 122  59  59  57  51  99  65\n",
      "  87  38  58  68  40 126  81  37  25  38   3   2  24  26  83  41 127  42\n",
      "  88  63  64  92  76  49  61 108 114 113  87  70 125  50 129  63  33  34\n",
      "  67  45  43  72  47  32  36]\n"
     ]
    }
   ],
   "source": [
    "print(y)"
   ]
  },
  {
   "cell_type": "code",
   "execution_count": 35,
   "id": "3aafa909",
   "metadata": {},
   "outputs": [],
   "source": [
    "from sklearn.model_selection import train_test_split\n",
    "X_train, X_test, y_train, y_test = train_test_split(X, y, test_size = 0.2, random_state = 1)"
   ]
  },
  {
   "cell_type": "code",
   "execution_count": 36,
   "id": "7613a07f",
   "metadata": {},
   "outputs": [
    {
     "name": "stdout",
     "output_type": "stream",
     "text": [
      "[[0.0 0.0 0.0 ... 924 672 376]\n",
      " [0.0 0.0 0.0 ... 1019 678 442]\n",
      " [0.0 0.0 0.0 ... 334 271 196]\n",
      " ...\n",
      " [0.0 0.0 0.0 ... 558 405 200]\n",
      " [0.0 0.0 0.0 ... 1143 869 631]\n",
      " [0.0 0.0 0.0 ... 748 472 288]]\n"
     ]
    }
   ],
   "source": [
    "print(X_train)"
   ]
  },
  {
   "cell_type": "code",
   "execution_count": 37,
   "id": "022e4602",
   "metadata": {},
   "outputs": [
    {
     "name": "stdout",
     "output_type": "stream",
     "text": [
      "[[0.0 0.0 0.0 ... 648 559 398]\n",
      " [0.0 0.0 0.0 ... 969 650 327]\n",
      " [0.0 0.0 0.0 ... 809 521 234]\n",
      " ...\n",
      " [0.0 0.0 0.0 ... 1027 665 276]\n",
      " [0.0 0.0 0.0 ... 667 447 274]\n",
      " [0.0 0.0 0.0 ... 498 362 226]]\n"
     ]
    }
   ],
   "source": [
    "print(X_test)"
   ]
  },
  {
   "cell_type": "code",
   "execution_count": 38,
   "id": "a802d7c3",
   "metadata": {},
   "outputs": [
    {
     "name": "stdout",
     "output_type": "stream",
     "text": [
      "[113 121  64  81  39  62  27  12  87  40  61   2  59  20   3  31 115  35\n",
      " 103  23  42  38  50  65  61  88 112  83 118  46 126  41  82  93  57  98\n",
      "  63  58  73   8  45 125  51 128  28  25  75   1  11  29  13  21 127  47\n",
      "  90  68  36  53  63 105  36  76   0  51  43   5  32  38 124  80  85  56\n",
      " 102 111 104  30 109  18  87  26  34  60  97  77  47  33  22  47  99  62\n",
      "  37  96   6  79  78 101  66  89 116  17  19  95  16  44 123  69  94 122\n",
      "  84 117 114  86  92  67  51 108  70  55 129  63]\n"
     ]
    }
   ],
   "source": [
    "print(y_train)"
   ]
  },
  {
   "cell_type": "code",
   "execution_count": 39,
   "id": "70b4080e",
   "metadata": {},
   "outputs": [
    {
     "name": "stdout",
     "output_type": "stream",
     "text": [
      "[110  98  44  74  49  14  63  59   7  24   9 107  59 119 113  91 130  45\n",
      "  54 100   4 106  52 120  42  10  15  82  71  72  48]\n"
     ]
    }
   ],
   "source": [
    "print(y_test)"
   ]
  },
  {
   "cell_type": "code",
   "execution_count": 40,
   "id": "69a59fbf",
   "metadata": {},
   "outputs": [],
   "source": [
    "from sklearn.preprocessing import StandardScaler as SS\n",
    "sc = SS()\n",
    "X_train[:, -1:] = sc.fit_transform(X_train[:, -1:])\n",
    "X_test[:, -1:] = sc.transform(X_test[:, -1:])"
   ]
  },
  {
   "cell_type": "code",
   "execution_count": 41,
   "id": "9de51f02",
   "metadata": {},
   "outputs": [
    {
     "name": "stdout",
     "output_type": "stream",
     "text": [
      "[[1.0 0.0 0.0 ... 734 484 246]\n",
      " [1.0 0.0 0.0 ... 762 548 292]\n",
      " [1.0 0.0 0.0 ... 788 583 349]\n",
      " ...\n",
      " [0.0 0.0 0.0 ... 733 507 276]\n",
      " [0.0 0.0 0.0 ... 537 348 185]\n",
      " [0.0 0.0 0.0 ... 569 410 178]]\n"
     ]
    }
   ],
   "source": [
    "print(X)"
   ]
  },
  {
   "cell_type": "code",
   "execution_count": 42,
   "id": "62aa2e84",
   "metadata": {},
   "outputs": [
    {
     "name": "stdout",
     "output_type": "stream",
     "text": [
      "[[0.0 0.0 0.0 ... 648 559 1.0251472691326815]\n",
      " [0.0 0.0 0.0 ... 969 650 0.46999219807119]\n",
      " [0.0 0.0 0.0 ... 809 521 -0.2571827541642847]\n",
      " ...\n",
      " [0.0 0.0 0.0 ... 1027 665 0.07121883716786516]\n",
      " [0.0 0.0 0.0 ... 667 447 0.0555806661520485]\n",
      " [0.0 0.0 0.0 ... 498 362 -0.31973543822755135]]\n"
     ]
    }
   ],
   "source": [
    "print(X_test)"
   ]
  },
  {
   "cell_type": "code",
   "execution_count": null,
   "id": "b1e2a2f6",
   "metadata": {},
   "outputs": [],
   "source": []
  }
 ],
 "metadata": {
  "kernelspec": {
   "display_name": "Python 3 (ipykernel)",
   "language": "python",
   "name": "python3"
  },
  "language_info": {
   "codemirror_mode": {
    "name": "ipython",
    "version": 3
   },
   "file_extension": ".py",
   "mimetype": "text/x-python",
   "name": "python",
   "nbconvert_exporter": "python",
   "pygments_lexer": "ipython3",
   "version": "3.10.2"
  }
 },
 "nbformat": 4,
 "nbformat_minor": 5
}
